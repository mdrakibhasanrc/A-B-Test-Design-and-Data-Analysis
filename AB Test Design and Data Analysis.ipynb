{
 "cells": [
  {
   "cell_type": "markdown",
   "id": "a0206065",
   "metadata": {},
   "source": [
    "## Project Name: Data-Driven A/B Test Design and Data Analysis For Conversion Rates\n",
    "\n",
    "Introduction: In today's competitive digital landscape, optimizing conversion rates is crucial for driving business success. A/B testing provides a robust framework for comparing different versions of a website or app, helping organizations identify which changes lead to higher user engagement and conversion. By leveraging data-driven approaches to design and analyze A/B tests, businesses can make informed decisions, minimize guesswork, and implement targeted strategies that significantly improve user experience and maximize conversion rates."
   ]
  },
  {
   "cell_type": "markdown",
   "id": "13907a3b",
   "metadata": {},
   "source": [
    "## Step-by-Step Test Design Process"
   ]
  },
  {
   "cell_type": "markdown",
   "id": "092029e4",
   "metadata": {},
   "source": [
    "### Phase 1: Define Test Objective:\n",
    "\n",
    " * Goal: Improve the website’s conversion rate by 15%.\n",
    "    \n",
    " * Focus Area: Product page layout."
   ]
  },
  {
   "cell_type": "markdown",
   "id": "44e3a768",
   "metadata": {},
   "source": [
    "### Phase 2. Primary or Sucess Metric: Conversion \n",
    "\n",
    "Formula: Conversion Rate = Conversions / Visitors\n",
    "    \n",
    "This is the main metric to evaluate whether the new variant performs better than the control.\n",
    "\n",
    "Baseline Conversion Rate: 10%"
   ]
  },
  {
   "cell_type": "markdown",
   "id": "26e2e045",
   "metadata": {},
   "source": [
    "### Phase 3. Secondary Metrics (based on Primary Metric):\n",
    "\n",
    "These metrics will give deeper insights into user behavior and ensure there are no negative side effects \n",
    "on other important aspects of the website.\n",
    "\n",
    "#### Secondary Metrics\n",
    "\n",
    " * Bounce Rate: Percentage of visitors who leave the website without interacting.\n",
    " \n",
    "     \n",
    " * Pages Per Session: Average number of pages viewed per user session.\n",
    " \n",
    "     \n",
    " * Average Order Value (AOV): Total revenue divided by the number of orders.\n",
    " \n",
    "     \n",
    " * Session Duration: Average time spent on the website.\n",
    " \n",
    "     \n",
    " * Exit Rate: Percentage of users who leave the site after visiting a specific page."
   ]
  },
  {
   "cell_type": "markdown",
   "id": "18def39a",
   "metadata": {},
   "source": [
    "### Phase 4. Formulate Hypothesis:\n",
    "\n",
    "Hypothesis: \"Adding trust badges near the 'Buy Now' button will reduce user hesitation and increase purchases.\"\n"
   ]
  },
  {
   "cell_type": "markdown",
   "id": "79b81334",
   "metadata": {},
   "source": [
    "### Phase 5. Determine Variable to Test\n",
    "\n",
    "Control Group (A): Current product page layout without trust badges.\n",
    "\n",
    "Variation Group (B): Product page layout with prominently displayed trust badges near the 'Buy Now' button."
   ]
  },
  {
   "cell_type": "markdown",
   "id": "c2a9a92f",
   "metadata": {},
   "source": [
    "### Phase 6. Hypothesis Generate:\n",
    "\n",
    "Null Hypothesis (H₀): There is no significant difference in conversion rates between the Control group A and Variant groups B.\n",
    "\n",
    "Formula for Null Hypotheis: H0 : Conversion Rate (Control) = Conversion Rate (Variant)\n",
    "\n",
    "Alternative Hypothesis (H₁): There is a significant difference in conversion rates between the Control group A and Variant groups B.\n",
    "\n",
    "\n",
    "Formula for Alternative Hypotheis: H0 : Conversion Rate (Control) != Conversion Rate (Variant)\n"
   ]
  },
  {
   "cell_type": "markdown",
   "id": "5541f84f",
   "metadata": {},
   "source": [
    "### Phase 7. Calculate Sample Size - To calculate the required sample size per group\n",
    "\n",
    "Baseline Conversion Rate ( p0 )= 10%\n",
    "\n",
    "Minimum detectable effect (MDE): 15% increase\n",
    "\n",
    "Significance level (α): 5%\n",
    "\n",
    "Power (1−𝛽): 80%"
   ]
  },
  {
   "cell_type": "markdown",
   "id": "8cbdac1c",
   "metadata": {},
   "source": [
    "#### Python Code for Calculate sample Size Group"
   ]
  },
  {
   "cell_type": "code",
   "execution_count": 34,
   "id": "ef5a34f5",
   "metadata": {},
   "outputs": [
    {
     "name": "stdout",
     "output_type": "stream",
     "text": [
      "BaseLine Conversion rate 0.1\n",
      "Want to Improvment 0.15\n",
      "New Conversion rate after MDE 0.115\n",
      "Significance Level 0.05\n",
      "Power 0.8\n",
      "Z score for significance level1.959963984540054\n",
      "Z score for power 0.8\n",
      "Sample Size need for AB Test 13380\n",
      "Required sample size per group: 6690\n",
      "Total sample size: 13380\n"
     ]
    }
   ],
   "source": [
    "import math\n",
    "\n",
    "# Define parameters\n",
    "p1=0.1 #baseline conversion rate 10%\n",
    "mde=0.15 # 15% improvment\n",
    "new=mde*p1 # calculation: new= MDE * Baseline conversion rate\n",
    "p2= new + p1 # New conversion rate after MDE\n",
    "   \n",
    "#Significance level and Power\n",
    "   \n",
    "alpha=0.05 # significance level 95%\n",
    "power=0.8 #power 80%\n",
    "   \n",
    "# Z score for significance level and Power\n",
    "   \n",
    "z_alpha=stats.norm.ppf(1-alpha/2)\n",
    "z_beta=stats.norm.ppf(power)\n",
    "   \n",
    "print(f\"BaseLine Conversion rate {p1}\")\n",
    "print(f\"Want to Improvment {mde}\")\n",
    "print(f\"New Conversion rate after MDE {p2}\")\n",
    "print(f\"Significance Level {alpha}\")\n",
    "print(f\"Power {power}\")\n",
    "print(f\"Z score for significance level{z_alpha}\")\n",
    "print(f\"Z score for power {power}\")\n",
    "   \n",
    "# Calculate Sample Size\n",
    "numerator=((z_alpha+z_beta)**2)*(p1*(1-p1)+p2*(1-p2))\n",
    "demerator=(p2-p1)**2\n",
    "sample_size_per_group=numerator/demerator\n",
    "sample_size_per_group = math.ceil(sample_size_per_group)\n",
    "Total_Sample_size=sample_size_per_group*2\n",
    "print(f\"Sample Size need for AB Test {Total_Sample_size}\")\n",
    "  \n",
    "#Output results\n",
    "print(f\"Required sample size per group: {int(sample_size_per_group)}\")\n",
    "print(f\"Total sample size: {int(2 * sample_size_per_group)}\")"
   ]
  },
  {
   "cell_type": "markdown",
   "id": "dde573a5",
   "metadata": {},
   "source": [
    "### Phase 8. Test Duration: To calculate the number of days required to run an A/B test\n",
    "\n",
    "Daily traffic per group: How many visitors are available per day for each variant (A and B)?\n",
    "\n",
    "Sample size per group: The total sample size calculated per group.\n",
    "\n",
    "Formula: Test Duration (in days) = Sample size per group / Daily traffic per group"
   ]
  },
  {
   "cell_type": "markdown",
   "id": "bc22012d",
   "metadata": {},
   "source": [
    "#### Python Code"
   ]
  },
  {
   "cell_type": "code",
   "execution_count": 35,
   "id": "c50d19bb",
   "metadata": {},
   "outputs": [
    {
     "name": "stdout",
     "output_type": "stream",
     "text": [
      "Test Duration: 9 days\n"
     ]
    }
   ],
   "source": [
    "daily_traffic=1500 # your website current daily trafficTot\n",
    "Total_Sample_size # previous calculation\n",
    "test_duration= Total_Sample_size/daily_traffic\n",
    "test_duration = math.ceil(test_duration)  # Round up to the next whole day\n",
    "print(f\"Test Duration: {test_duration} days\")"
   ]
  },
  {
   "cell_type": "markdown",
   "id": "4c7dd15c",
   "metadata": {},
   "source": [
    "### Phase 9: Develop Variations\n",
    "\n",
    "Control (A): Current product page without trust badges.\n",
    "\n",
    "Variation (B): New design featuring trust badges near the CTA button, highlighting security and satisfaction guarantees."
   ]
  },
  {
   "cell_type": "markdown",
   "id": "24ac579f",
   "metadata": {},
   "source": [
    "### Phase 10: Launch the Test\n",
    "\n",
    "Target audience: All website visitors on the product page.\n",
    "\n",
    "Traffic split: 50% of users assigned to Control (A) and 50% to Variation (B).\n",
    "\n",
    "Monitor performance daily to ensure:\n",
    "\n",
    "       No technical issues.\n",
    "\n",
    "       Balanced traffic distribution.\n"
   ]
  },
  {
   "cell_type": "markdown",
   "id": "9bde254d",
   "metadata": {},
   "source": [
    "### After Running the Test\n",
    "\n",
    "After running the A/B test for 9 days starting from the test's launch, we have now collected the data and are ready to begin the analysis."
   ]
  },
  {
   "cell_type": "markdown",
   "id": "10ac52de",
   "metadata": {},
   "source": [
    "# Import important Library"
   ]
  },
  {
   "cell_type": "code",
   "execution_count": 1,
   "id": "3ad27db1",
   "metadata": {},
   "outputs": [],
   "source": [
    "import numpy as np\n",
    "import pandas as pd\n",
    "import matplotlib.pyplot as plt\n",
    "import seaborn as sns\n",
    "import warnings\n",
    "warnings.filterwarnings('ignore')\n",
    "from scipy import stats"
   ]
  },
  {
   "cell_type": "markdown",
   "id": "47cf191b",
   "metadata": {},
   "source": [
    "# Data Load "
   ]
  },
  {
   "cell_type": "code",
   "execution_count": 2,
   "id": "16cfa41c",
   "metadata": {},
   "outputs": [
    {
     "data": {
      "text/html": [
       "<div>\n",
       "<style scoped>\n",
       "    .dataframe tbody tr th:only-of-type {\n",
       "        vertical-align: middle;\n",
       "    }\n",
       "\n",
       "    .dataframe tbody tr th {\n",
       "        vertical-align: top;\n",
       "    }\n",
       "\n",
       "    .dataframe thead th {\n",
       "        text-align: right;\n",
       "    }\n",
       "</style>\n",
       "<table border=\"1\" class=\"dataframe\">\n",
       "  <thead>\n",
       "    <tr style=\"text-align: right;\">\n",
       "      <th></th>\n",
       "      <th>Unnamed: 0</th>\n",
       "      <th>userid</th>\n",
       "      <th>Date</th>\n",
       "      <th>group Name</th>\n",
       "      <th>impression</th>\n",
       "      <th>click</th>\n",
       "      <th>revenue</th>\n",
       "      <th>session duration</th>\n",
       "      <th>conversion</th>\n",
       "      <th>exit rate</th>\n",
       "    </tr>\n",
       "  </thead>\n",
       "  <tbody>\n",
       "    <tr>\n",
       "      <th>0</th>\n",
       "      <td>0</td>\n",
       "      <td>1</td>\n",
       "      <td>2024-10-02</td>\n",
       "      <td>Control</td>\n",
       "      <td>294</td>\n",
       "      <td>20</td>\n",
       "      <td>0</td>\n",
       "      <td>175.11</td>\n",
       "      <td>0</td>\n",
       "      <td>0.40</td>\n",
       "    </tr>\n",
       "    <tr>\n",
       "      <th>1</th>\n",
       "      <td>1</td>\n",
       "      <td>2</td>\n",
       "      <td>2024-11-25</td>\n",
       "      <td>Control</td>\n",
       "      <td>312</td>\n",
       "      <td>13</td>\n",
       "      <td>0</td>\n",
       "      <td>203.49</td>\n",
       "      <td>0</td>\n",
       "      <td>0.62</td>\n",
       "    </tr>\n",
       "    <tr>\n",
       "      <th>2</th>\n",
       "      <td>2</td>\n",
       "      <td>3</td>\n",
       "      <td>2024-11-02</td>\n",
       "      <td>Control</td>\n",
       "      <td>280</td>\n",
       "      <td>15</td>\n",
       "      <td>0</td>\n",
       "      <td>288.82</td>\n",
       "      <td>0</td>\n",
       "      <td>0.47</td>\n",
       "    </tr>\n",
       "    <tr>\n",
       "      <th>3</th>\n",
       "      <td>3</td>\n",
       "      <td>4</td>\n",
       "      <td>2024-11-10</td>\n",
       "      <td>Control</td>\n",
       "      <td>305</td>\n",
       "      <td>14</td>\n",
       "      <td>692</td>\n",
       "      <td>272.95</td>\n",
       "      <td>1</td>\n",
       "      <td>0.44</td>\n",
       "    </tr>\n",
       "    <tr>\n",
       "      <th>4</th>\n",
       "      <td>4</td>\n",
       "      <td>5</td>\n",
       "      <td>2024-10-18</td>\n",
       "      <td>Control</td>\n",
       "      <td>319</td>\n",
       "      <td>26</td>\n",
       "      <td>0</td>\n",
       "      <td>148.98</td>\n",
       "      <td>0</td>\n",
       "      <td>0.55</td>\n",
       "    </tr>\n",
       "  </tbody>\n",
       "</table>\n",
       "</div>"
      ],
      "text/plain": [
       "   Unnamed: 0  userid        Date group Name  impression  click  revenue  \\\n",
       "0           0       1  2024-10-02    Control         294     20        0   \n",
       "1           1       2  2024-11-25    Control         312     13        0   \n",
       "2           2       3  2024-11-02    Control         280     15        0   \n",
       "3           3       4  2024-11-10    Control         305     14      692   \n",
       "4           4       5  2024-10-18    Control         319     26        0   \n",
       "\n",
       "   session duration  conversion  exit rate  \n",
       "0            175.11           0       0.40  \n",
       "1            203.49           0       0.62  \n",
       "2            288.82           0       0.47  \n",
       "3            272.95           1       0.44  \n",
       "4            148.98           0       0.55  "
      ]
     },
     "execution_count": 2,
     "metadata": {},
     "output_type": "execute_result"
    }
   ],
   "source": [
    "data=pd.read_csv(r'F:\\full_data.csv')\n",
    "data.head()"
   ]
  },
  {
   "cell_type": "code",
   "execution_count": 3,
   "id": "e6820f21",
   "metadata": {},
   "outputs": [],
   "source": [
    "#backup data\n",
    "df=data.copy()"
   ]
  },
  {
   "cell_type": "markdown",
   "id": "53854c53",
   "metadata": {},
   "source": [
    "# Data Description"
   ]
  },
  {
   "cell_type": "markdown",
   "id": "e873cb85",
   "metadata": {},
   "source": [
    "Data Columns: \n",
    "\n",
    "userid: A unique identifier assigned to each user to track their activity and interactions.\n",
    "\n",
    "Date: The date on which the data or activity was recorded.\n",
    "\n",
    "group Name: Either \"Control\" or \"Experimental\".\n",
    "\n",
    "impression: The number of times an item (e.g., an ad, product, or webpage) was shown to the user.\n",
    "\n",
    "click: The number of times the user clicked on the shown item (e.g., an ad or product link).\n",
    "\n",
    "revenue: The total income generated from a user's actions, typically from clicks or purchases.\n",
    "\n",
    "session duration: The total time a user spends interacting with the platform or website during a single session.\n",
    "\n",
    "conversion: The number or percentage of users who completed a desired action (e.g., a purchase )\n",
    "\n",
    "exit rate: The percentage of users who leave the site or session after viewing a particular page or after completing their interactions."
   ]
  },
  {
   "cell_type": "markdown",
   "id": "8384aaee",
   "metadata": {},
   "source": [
    "# Understand Data"
   ]
  },
  {
   "cell_type": "code",
   "execution_count": 4,
   "id": "dd0fde49",
   "metadata": {},
   "outputs": [
    {
     "data": {
      "text/html": [
       "<div>\n",
       "<style scoped>\n",
       "    .dataframe tbody tr th:only-of-type {\n",
       "        vertical-align: middle;\n",
       "    }\n",
       "\n",
       "    .dataframe tbody tr th {\n",
       "        vertical-align: top;\n",
       "    }\n",
       "\n",
       "    .dataframe thead th {\n",
       "        text-align: right;\n",
       "    }\n",
       "</style>\n",
       "<table border=\"1\" class=\"dataframe\">\n",
       "  <thead>\n",
       "    <tr style=\"text-align: right;\">\n",
       "      <th></th>\n",
       "      <th>Unnamed: 0</th>\n",
       "      <th>userid</th>\n",
       "      <th>Date</th>\n",
       "      <th>group Name</th>\n",
       "      <th>impression</th>\n",
       "      <th>click</th>\n",
       "      <th>revenue</th>\n",
       "      <th>session duration</th>\n",
       "      <th>conversion</th>\n",
       "      <th>exit rate</th>\n",
       "    </tr>\n",
       "  </thead>\n",
       "  <tbody>\n",
       "    <tr>\n",
       "      <th>0</th>\n",
       "      <td>0</td>\n",
       "      <td>1</td>\n",
       "      <td>2024-10-02</td>\n",
       "      <td>Control</td>\n",
       "      <td>294</td>\n",
       "      <td>20</td>\n",
       "      <td>0</td>\n",
       "      <td>175.11</td>\n",
       "      <td>0</td>\n",
       "      <td>0.40</td>\n",
       "    </tr>\n",
       "    <tr>\n",
       "      <th>1</th>\n",
       "      <td>1</td>\n",
       "      <td>2</td>\n",
       "      <td>2024-11-25</td>\n",
       "      <td>Control</td>\n",
       "      <td>312</td>\n",
       "      <td>13</td>\n",
       "      <td>0</td>\n",
       "      <td>203.49</td>\n",
       "      <td>0</td>\n",
       "      <td>0.62</td>\n",
       "    </tr>\n",
       "    <tr>\n",
       "      <th>2</th>\n",
       "      <td>2</td>\n",
       "      <td>3</td>\n",
       "      <td>2024-11-02</td>\n",
       "      <td>Control</td>\n",
       "      <td>280</td>\n",
       "      <td>15</td>\n",
       "      <td>0</td>\n",
       "      <td>288.82</td>\n",
       "      <td>0</td>\n",
       "      <td>0.47</td>\n",
       "    </tr>\n",
       "  </tbody>\n",
       "</table>\n",
       "</div>"
      ],
      "text/plain": [
       "   Unnamed: 0  userid        Date group Name  impression  click  revenue  \\\n",
       "0           0       1  2024-10-02    Control         294     20        0   \n",
       "1           1       2  2024-11-25    Control         312     13        0   \n",
       "2           2       3  2024-11-02    Control         280     15        0   \n",
       "\n",
       "   session duration  conversion  exit rate  \n",
       "0            175.11           0       0.40  \n",
       "1            203.49           0       0.62  \n",
       "2            288.82           0       0.47  "
      ]
     },
     "execution_count": 4,
     "metadata": {},
     "output_type": "execute_result"
    }
   ],
   "source": [
    "# to check first five rows\n",
    "df.head(3)"
   ]
  },
  {
   "cell_type": "code",
   "execution_count": 5,
   "id": "7ff186da",
   "metadata": {},
   "outputs": [
    {
     "data": {
      "text/html": [
       "<div>\n",
       "<style scoped>\n",
       "    .dataframe tbody tr th:only-of-type {\n",
       "        vertical-align: middle;\n",
       "    }\n",
       "\n",
       "    .dataframe tbody tr th {\n",
       "        vertical-align: top;\n",
       "    }\n",
       "\n",
       "    .dataframe thead th {\n",
       "        text-align: right;\n",
       "    }\n",
       "</style>\n",
       "<table border=\"1\" class=\"dataframe\">\n",
       "  <thead>\n",
       "    <tr style=\"text-align: right;\">\n",
       "      <th></th>\n",
       "      <th>Unnamed: 0</th>\n",
       "      <th>userid</th>\n",
       "      <th>Date</th>\n",
       "      <th>group Name</th>\n",
       "      <th>impression</th>\n",
       "      <th>click</th>\n",
       "      <th>revenue</th>\n",
       "      <th>session duration</th>\n",
       "      <th>conversion</th>\n",
       "      <th>exit rate</th>\n",
       "    </tr>\n",
       "  </thead>\n",
       "  <tbody>\n",
       "    <tr>\n",
       "      <th>13377</th>\n",
       "      <td>13377</td>\n",
       "      <td>6688</td>\n",
       "      <td>2024-10-09</td>\n",
       "      <td>Experimental</td>\n",
       "      <td>341</td>\n",
       "      <td>16</td>\n",
       "      <td>810</td>\n",
       "      <td>141.09</td>\n",
       "      <td>1</td>\n",
       "      <td>0.46</td>\n",
       "    </tr>\n",
       "    <tr>\n",
       "      <th>13378</th>\n",
       "      <td>13378</td>\n",
       "      <td>6689</td>\n",
       "      <td>2024-11-08</td>\n",
       "      <td>Experimental</td>\n",
       "      <td>299</td>\n",
       "      <td>16</td>\n",
       "      <td>0</td>\n",
       "      <td>223.11</td>\n",
       "      <td>0</td>\n",
       "      <td>0.31</td>\n",
       "    </tr>\n",
       "    <tr>\n",
       "      <th>13379</th>\n",
       "      <td>13379</td>\n",
       "      <td>6690</td>\n",
       "      <td>2024-11-11</td>\n",
       "      <td>Experimental</td>\n",
       "      <td>300</td>\n",
       "      <td>27</td>\n",
       "      <td>810</td>\n",
       "      <td>284.90</td>\n",
       "      <td>1</td>\n",
       "      <td>0.54</td>\n",
       "    </tr>\n",
       "  </tbody>\n",
       "</table>\n",
       "</div>"
      ],
      "text/plain": [
       "       Unnamed: 0  userid        Date    group Name  impression  click  \\\n",
       "13377       13377    6688  2024-10-09  Experimental         341     16   \n",
       "13378       13378    6689  2024-11-08  Experimental         299     16   \n",
       "13379       13379    6690  2024-11-11  Experimental         300     27   \n",
       "\n",
       "       revenue  session duration  conversion  exit rate  \n",
       "13377      810            141.09           1       0.46  \n",
       "13378        0            223.11           0       0.31  \n",
       "13379      810            284.90           1       0.54  "
      ]
     },
     "execution_count": 5,
     "metadata": {},
     "output_type": "execute_result"
    }
   ],
   "source": [
    "# to check last five rows\n",
    "df.tail(3)"
   ]
  },
  {
   "cell_type": "code",
   "execution_count": 6,
   "id": "e2ca2423",
   "metadata": {},
   "outputs": [
    {
     "data": {
      "text/html": [
       "<div>\n",
       "<style scoped>\n",
       "    .dataframe tbody tr th:only-of-type {\n",
       "        vertical-align: middle;\n",
       "    }\n",
       "\n",
       "    .dataframe tbody tr th {\n",
       "        vertical-align: top;\n",
       "    }\n",
       "\n",
       "    .dataframe thead th {\n",
       "        text-align: right;\n",
       "    }\n",
       "</style>\n",
       "<table border=\"1\" class=\"dataframe\">\n",
       "  <thead>\n",
       "    <tr style=\"text-align: right;\">\n",
       "      <th></th>\n",
       "      <th>Unnamed: 0</th>\n",
       "      <th>userid</th>\n",
       "      <th>Date</th>\n",
       "      <th>group Name</th>\n",
       "      <th>impression</th>\n",
       "      <th>click</th>\n",
       "      <th>revenue</th>\n",
       "      <th>session duration</th>\n",
       "      <th>conversion</th>\n",
       "      <th>exit rate</th>\n",
       "    </tr>\n",
       "  </thead>\n",
       "  <tbody>\n",
       "    <tr>\n",
       "      <th>1395</th>\n",
       "      <td>1395</td>\n",
       "      <td>1396</td>\n",
       "      <td>2024-10-03</td>\n",
       "      <td>Control</td>\n",
       "      <td>301</td>\n",
       "      <td>13</td>\n",
       "      <td>0</td>\n",
       "      <td>156.95</td>\n",
       "      <td>0</td>\n",
       "      <td>0.63</td>\n",
       "    </tr>\n",
       "    <tr>\n",
       "      <th>5597</th>\n",
       "      <td>5597</td>\n",
       "      <td>5598</td>\n",
       "      <td>2024-11-23</td>\n",
       "      <td>Control</td>\n",
       "      <td>282</td>\n",
       "      <td>19</td>\n",
       "      <td>0</td>\n",
       "      <td>170.28</td>\n",
       "      <td>0</td>\n",
       "      <td>0.30</td>\n",
       "    </tr>\n",
       "    <tr>\n",
       "      <th>10968</th>\n",
       "      <td>10968</td>\n",
       "      <td>4279</td>\n",
       "      <td>2024-10-11</td>\n",
       "      <td>Experimental</td>\n",
       "      <td>292</td>\n",
       "      <td>11</td>\n",
       "      <td>810</td>\n",
       "      <td>277.58</td>\n",
       "      <td>1</td>\n",
       "      <td>0.56</td>\n",
       "    </tr>\n",
       "  </tbody>\n",
       "</table>\n",
       "</div>"
      ],
      "text/plain": [
       "       Unnamed: 0  userid        Date    group Name  impression  click  \\\n",
       "1395         1395    1396  2024-10-03       Control         301     13   \n",
       "5597         5597    5598  2024-11-23       Control         282     19   \n",
       "10968       10968    4279  2024-10-11  Experimental         292     11   \n",
       "\n",
       "       revenue  session duration  conversion  exit rate  \n",
       "1395         0            156.95           0       0.63  \n",
       "5597         0            170.28           0       0.30  \n",
       "10968      810            277.58           1       0.56  "
      ]
     },
     "execution_count": 6,
     "metadata": {},
     "output_type": "execute_result"
    }
   ],
   "source": [
    "# to check sample five rows\n",
    "df.sample(3)"
   ]
  },
  {
   "cell_type": "code",
   "execution_count": 7,
   "id": "2866a25e",
   "metadata": {},
   "outputs": [
    {
     "data": {
      "text/plain": [
       "Index(['Unnamed: 0', 'userid', 'Date', 'group Name', 'impression', 'click',\n",
       "       'revenue', 'session duration', 'conversion', 'exit rate'],\n",
       "      dtype='object')"
      ]
     },
     "execution_count": 7,
     "metadata": {},
     "output_type": "execute_result"
    }
   ],
   "source": [
    "# to check columns name\n",
    "df.columns"
   ]
  },
  {
   "cell_type": "code",
   "execution_count": 8,
   "id": "5529b94b",
   "metadata": {},
   "outputs": [
    {
     "data": {
      "text/plain": [
       "(13380, 10)"
      ]
     },
     "execution_count": 8,
     "metadata": {},
     "output_type": "execute_result"
    }
   ],
   "source": [
    "# to check data shape\n",
    "df.shape\n"
   ]
  },
  {
   "cell_type": "code",
   "execution_count": 9,
   "id": "311a6c70",
   "metadata": {},
   "outputs": [
    {
     "name": "stdout",
     "output_type": "stream",
     "text": [
      "<class 'pandas.core.frame.DataFrame'>\n",
      "RangeIndex: 13380 entries, 0 to 13379\n",
      "Data columns (total 10 columns):\n",
      " #   Column            Non-Null Count  Dtype  \n",
      "---  ------            --------------  -----  \n",
      " 0   Unnamed: 0        13380 non-null  int64  \n",
      " 1   userid            13380 non-null  int64  \n",
      " 2   Date              13380 non-null  object \n",
      " 3   group Name        13380 non-null  object \n",
      " 4   impression        13380 non-null  int64  \n",
      " 5   click             13380 non-null  int64  \n",
      " 6   revenue           13380 non-null  int64  \n",
      " 7   session duration  13380 non-null  float64\n",
      " 8   conversion        13380 non-null  int64  \n",
      " 9   exit rate         13380 non-null  float64\n",
      "dtypes: float64(2), int64(6), object(2)\n",
      "memory usage: 1.0+ MB\n"
     ]
    }
   ],
   "source": [
    "#to check basic info\n",
    "df.info()"
   ]
  },
  {
   "cell_type": "code",
   "execution_count": 10,
   "id": "2e33d76e",
   "metadata": {},
   "outputs": [
    {
     "data": {
      "text/html": [
       "<div>\n",
       "<style scoped>\n",
       "    .dataframe tbody tr th:only-of-type {\n",
       "        vertical-align: middle;\n",
       "    }\n",
       "\n",
       "    .dataframe tbody tr th {\n",
       "        vertical-align: top;\n",
       "    }\n",
       "\n",
       "    .dataframe thead th {\n",
       "        text-align: right;\n",
       "    }\n",
       "</style>\n",
       "<table border=\"1\" class=\"dataframe\">\n",
       "  <thead>\n",
       "    <tr style=\"text-align: right;\">\n",
       "      <th></th>\n",
       "      <th>Unnamed: 0</th>\n",
       "      <th>userid</th>\n",
       "      <th>impression</th>\n",
       "      <th>click</th>\n",
       "      <th>revenue</th>\n",
       "      <th>session duration</th>\n",
       "      <th>conversion</th>\n",
       "      <th>exit rate</th>\n",
       "    </tr>\n",
       "  </thead>\n",
       "  <tbody>\n",
       "    <tr>\n",
       "      <th>count</th>\n",
       "      <td>13380.000000</td>\n",
       "      <td>13380.000000</td>\n",
       "      <td>13380.000000</td>\n",
       "      <td>13380.000000</td>\n",
       "      <td>13380.000000</td>\n",
       "      <td>13380.000000</td>\n",
       "      <td>13380.000000</td>\n",
       "      <td>13380.000000</td>\n",
       "    </tr>\n",
       "    <tr>\n",
       "      <th>mean</th>\n",
       "      <td>6689.500000</td>\n",
       "      <td>3345.500000</td>\n",
       "      <td>299.970478</td>\n",
       "      <td>15.042975</td>\n",
       "      <td>369.807324</td>\n",
       "      <td>165.450993</td>\n",
       "      <td>0.492003</td>\n",
       "      <td>0.448875</td>\n",
       "    </tr>\n",
       "    <tr>\n",
       "      <th>std</th>\n",
       "      <td>3862.617636</td>\n",
       "      <td>1931.308802</td>\n",
       "      <td>17.479394</td>\n",
       "      <td>3.882768</td>\n",
       "      <td>378.055962</td>\n",
       "      <td>78.066971</td>\n",
       "      <td>0.499955</td>\n",
       "      <td>0.144312</td>\n",
       "    </tr>\n",
       "    <tr>\n",
       "      <th>min</th>\n",
       "      <td>0.000000</td>\n",
       "      <td>1.000000</td>\n",
       "      <td>237.000000</td>\n",
       "      <td>2.000000</td>\n",
       "      <td>0.000000</td>\n",
       "      <td>30.010000</td>\n",
       "      <td>0.000000</td>\n",
       "      <td>0.200000</td>\n",
       "    </tr>\n",
       "    <tr>\n",
       "      <th>25%</th>\n",
       "      <td>3344.750000</td>\n",
       "      <td>1673.000000</td>\n",
       "      <td>288.000000</td>\n",
       "      <td>12.000000</td>\n",
       "      <td>0.000000</td>\n",
       "      <td>98.260000</td>\n",
       "      <td>0.000000</td>\n",
       "      <td>0.320000</td>\n",
       "    </tr>\n",
       "    <tr>\n",
       "      <th>50%</th>\n",
       "      <td>6689.500000</td>\n",
       "      <td>3345.500000</td>\n",
       "      <td>300.000000</td>\n",
       "      <td>15.000000</td>\n",
       "      <td>0.000000</td>\n",
       "      <td>166.020000</td>\n",
       "      <td>0.000000</td>\n",
       "      <td>0.450000</td>\n",
       "    </tr>\n",
       "    <tr>\n",
       "      <th>75%</th>\n",
       "      <td>10034.250000</td>\n",
       "      <td>5018.000000</td>\n",
       "      <td>312.000000</td>\n",
       "      <td>18.000000</td>\n",
       "      <td>692.000000</td>\n",
       "      <td>233.432500</td>\n",
       "      <td>1.000000</td>\n",
       "      <td>0.570000</td>\n",
       "    </tr>\n",
       "    <tr>\n",
       "      <th>max</th>\n",
       "      <td>13379.000000</td>\n",
       "      <td>6690.000000</td>\n",
       "      <td>372.000000</td>\n",
       "      <td>31.000000</td>\n",
       "      <td>810.000000</td>\n",
       "      <td>299.990000</td>\n",
       "      <td>1.000000</td>\n",
       "      <td>0.700000</td>\n",
       "    </tr>\n",
       "  </tbody>\n",
       "</table>\n",
       "</div>"
      ],
      "text/plain": [
       "         Unnamed: 0        userid    impression         click       revenue  \\\n",
       "count  13380.000000  13380.000000  13380.000000  13380.000000  13380.000000   \n",
       "mean    6689.500000   3345.500000    299.970478     15.042975    369.807324   \n",
       "std     3862.617636   1931.308802     17.479394      3.882768    378.055962   \n",
       "min        0.000000      1.000000    237.000000      2.000000      0.000000   \n",
       "25%     3344.750000   1673.000000    288.000000     12.000000      0.000000   \n",
       "50%     6689.500000   3345.500000    300.000000     15.000000      0.000000   \n",
       "75%    10034.250000   5018.000000    312.000000     18.000000    692.000000   \n",
       "max    13379.000000   6690.000000    372.000000     31.000000    810.000000   \n",
       "\n",
       "       session duration    conversion     exit rate  \n",
       "count      13380.000000  13380.000000  13380.000000  \n",
       "mean         165.450993      0.492003      0.448875  \n",
       "std           78.066971      0.499955      0.144312  \n",
       "min           30.010000      0.000000      0.200000  \n",
       "25%           98.260000      0.000000      0.320000  \n",
       "50%          166.020000      0.000000      0.450000  \n",
       "75%          233.432500      1.000000      0.570000  \n",
       "max          299.990000      1.000000      0.700000  "
      ]
     },
     "execution_count": 10,
     "metadata": {},
     "output_type": "execute_result"
    }
   ],
   "source": [
    "# to check basic statistics\n",
    "df.describe()"
   ]
  },
  {
   "cell_type": "markdown",
   "id": "80c160e8",
   "metadata": {},
   "source": [
    "# Data Cleaning & Preperation"
   ]
  },
  {
   "cell_type": "code",
   "execution_count": 11,
   "id": "b4d5c9f0",
   "metadata": {},
   "outputs": [
    {
     "data": {
      "text/plain": [
       "Unnamed: 0          0\n",
       "userid              0\n",
       "Date                0\n",
       "group Name          0\n",
       "impression          0\n",
       "click               0\n",
       "revenue             0\n",
       "session duration    0\n",
       "conversion          0\n",
       "exit rate           0\n",
       "dtype: int64"
      ]
     },
     "execution_count": 11,
     "metadata": {},
     "output_type": "execute_result"
    }
   ],
   "source": [
    "# to check null values\n",
    "df.isnull().sum()"
   ]
  },
  {
   "cell_type": "markdown",
   "id": "2e1abb81",
   "metadata": {},
   "source": [
    "My Dataset has no null Values."
   ]
  },
  {
   "cell_type": "code",
   "execution_count": 12,
   "id": "3223d8af",
   "metadata": {},
   "outputs": [
    {
     "data": {
      "text/plain": [
       "0"
      ]
     },
     "execution_count": 12,
     "metadata": {},
     "output_type": "execute_result"
    }
   ],
   "source": [
    "# to check duplicated value\n",
    "df.duplicated().sum()"
   ]
  },
  {
   "cell_type": "markdown",
   "id": "85ef26bf",
   "metadata": {},
   "source": [
    "My Dataset Has no Duplicated Value"
   ]
  },
  {
   "cell_type": "code",
   "execution_count": 13,
   "id": "59154f7e",
   "metadata": {},
   "outputs": [],
   "source": [
    "# remove unwanted columns\n",
    "df.drop(columns=['Unnamed: 0'],inplace=True)"
   ]
  },
  {
   "cell_type": "code",
   "execution_count": 15,
   "id": "3cbabb57",
   "metadata": {},
   "outputs": [],
   "source": [
    "# convert date columnd\n",
    "df['Date']=pd.to_datetime(df['Date'])"
   ]
  },
  {
   "cell_type": "code",
   "execution_count": 17,
   "id": "75748f6e",
   "metadata": {},
   "outputs": [],
   "source": [
    "# extract day name\n",
    "df['Day_Name']=df['Date'].dt.day_name()"
   ]
  },
  {
   "cell_type": "code",
   "execution_count": 19,
   "id": "e794b680",
   "metadata": {},
   "outputs": [],
   "source": [
    "df['Month_Name']=df['Date'].dt.month_name()"
   ]
  },
  {
   "cell_type": "code",
   "execution_count": 20,
   "id": "c8a3913b",
   "metadata": {},
   "outputs": [],
   "source": [
    "def wek_flag(value):\n",
    "    if value=='Satrday':\n",
    "        return \"weekend\"\n",
    "    elif value=='Sunday':\n",
    "        return 'weekend'\n",
    "    else:\n",
    "        return 'weekday'"
   ]
  },
  {
   "cell_type": "code",
   "execution_count": 21,
   "id": "2b1e76b1",
   "metadata": {},
   "outputs": [],
   "source": [
    "df['week_flag']=df['Day_Name'].apply(wek_flag)"
   ]
  },
  {
   "cell_type": "code",
   "execution_count": 28,
   "id": "a0cde598",
   "metadata": {},
   "outputs": [
    {
     "data": {
      "text/html": [
       "<div>\n",
       "<style scoped>\n",
       "    .dataframe tbody tr th:only-of-type {\n",
       "        vertical-align: middle;\n",
       "    }\n",
       "\n",
       "    .dataframe tbody tr th {\n",
       "        vertical-align: top;\n",
       "    }\n",
       "\n",
       "    .dataframe thead th {\n",
       "        text-align: right;\n",
       "    }\n",
       "</style>\n",
       "<table border=\"1\" class=\"dataframe\">\n",
       "  <thead>\n",
       "    <tr style=\"text-align: right;\">\n",
       "      <th></th>\n",
       "      <th>userid</th>\n",
       "      <th>Date</th>\n",
       "      <th>group Name</th>\n",
       "      <th>impression</th>\n",
       "      <th>click</th>\n",
       "      <th>revenue</th>\n",
       "      <th>session duration</th>\n",
       "      <th>conversion</th>\n",
       "      <th>exit rate</th>\n",
       "      <th>Day_Name</th>\n",
       "      <th>Month_Name</th>\n",
       "      <th>week_flag</th>\n",
       "      <th>CTR</th>\n",
       "    </tr>\n",
       "  </thead>\n",
       "  <tbody>\n",
       "    <tr>\n",
       "      <th>0</th>\n",
       "      <td>1</td>\n",
       "      <td>2024-10-02</td>\n",
       "      <td>Control</td>\n",
       "      <td>294</td>\n",
       "      <td>20</td>\n",
       "      <td>0</td>\n",
       "      <td>175.11</td>\n",
       "      <td>0</td>\n",
       "      <td>0.40</td>\n",
       "      <td>Wednesday</td>\n",
       "      <td>October</td>\n",
       "      <td>weekday</td>\n",
       "      <td>0.07</td>\n",
       "    </tr>\n",
       "    <tr>\n",
       "      <th>1</th>\n",
       "      <td>2</td>\n",
       "      <td>2024-11-25</td>\n",
       "      <td>Control</td>\n",
       "      <td>312</td>\n",
       "      <td>13</td>\n",
       "      <td>0</td>\n",
       "      <td>203.49</td>\n",
       "      <td>0</td>\n",
       "      <td>0.62</td>\n",
       "      <td>Monday</td>\n",
       "      <td>November</td>\n",
       "      <td>weekday</td>\n",
       "      <td>0.04</td>\n",
       "    </tr>\n",
       "  </tbody>\n",
       "</table>\n",
       "</div>"
      ],
      "text/plain": [
       "   userid       Date group Name  impression  click  revenue  session duration  \\\n",
       "0       1 2024-10-02    Control         294     20        0            175.11   \n",
       "1       2 2024-11-25    Control         312     13        0            203.49   \n",
       "\n",
       "   conversion  exit rate   Day_Name Month_Name week_flag   CTR  \n",
       "0           0       0.40  Wednesday    October   weekday  0.07  \n",
       "1           0       0.62     Monday   November   weekday  0.04  "
      ]
     },
     "execution_count": 28,
     "metadata": {},
     "output_type": "execute_result"
    }
   ],
   "source": [
    "df.head(2)"
   ]
  },
  {
   "cell_type": "code",
   "execution_count": 65,
   "id": "1834e6e9",
   "metadata": {},
   "outputs": [],
   "source": [
    "# create ctr columns\n",
    "df['CTR']=round((df['click']/df['impression'])*100,2)"
   ]
  },
  {
   "cell_type": "code",
   "execution_count": 45,
   "id": "73642b1b",
   "metadata": {},
   "outputs": [],
   "source": [
    "df['CR']=round((df['conversion']/df['click'])*100,2)"
   ]
  },
  {
   "cell_type": "code",
   "execution_count": 37,
   "id": "88a347c6",
   "metadata": {},
   "outputs": [],
   "source": [
    "df.rename(columns={'session duration':'session_duration(sec)'},inplace=True)"
   ]
  },
  {
   "cell_type": "markdown",
   "id": "e4a2be38",
   "metadata": {},
   "source": [
    "# Exploratory Data Analysis"
   ]
  },
  {
   "cell_type": "code",
   "execution_count": 48,
   "id": "6d72366c",
   "metadata": {},
   "outputs": [
    {
     "data": {
      "text/html": [
       "<div>\n",
       "<style scoped>\n",
       "    .dataframe tbody tr th:only-of-type {\n",
       "        vertical-align: middle;\n",
       "    }\n",
       "\n",
       "    .dataframe tbody tr th {\n",
       "        vertical-align: top;\n",
       "    }\n",
       "\n",
       "    .dataframe thead th {\n",
       "        text-align: right;\n",
       "    }\n",
       "</style>\n",
       "<table border=\"1\" class=\"dataframe\">\n",
       "  <thead>\n",
       "    <tr style=\"text-align: right;\">\n",
       "      <th></th>\n",
       "      <th>userid</th>\n",
       "      <th>Date</th>\n",
       "      <th>group Name</th>\n",
       "      <th>impression</th>\n",
       "      <th>click</th>\n",
       "      <th>revenue</th>\n",
       "      <th>session_duration(sec)</th>\n",
       "      <th>conversion</th>\n",
       "      <th>exit rate</th>\n",
       "      <th>Day_Name</th>\n",
       "      <th>Month_Name</th>\n",
       "      <th>week_flag</th>\n",
       "      <th>CTR</th>\n",
       "      <th>CR</th>\n",
       "    </tr>\n",
       "  </thead>\n",
       "  <tbody>\n",
       "    <tr>\n",
       "      <th>0</th>\n",
       "      <td>1</td>\n",
       "      <td>2024-10-02</td>\n",
       "      <td>Control</td>\n",
       "      <td>294</td>\n",
       "      <td>20</td>\n",
       "      <td>0</td>\n",
       "      <td>175.11</td>\n",
       "      <td>0</td>\n",
       "      <td>0.40</td>\n",
       "      <td>Wednesday</td>\n",
       "      <td>October</td>\n",
       "      <td>weekday</td>\n",
       "      <td>0.07</td>\n",
       "      <td>0.00</td>\n",
       "    </tr>\n",
       "    <tr>\n",
       "      <th>1</th>\n",
       "      <td>2</td>\n",
       "      <td>2024-11-25</td>\n",
       "      <td>Control</td>\n",
       "      <td>312</td>\n",
       "      <td>13</td>\n",
       "      <td>0</td>\n",
       "      <td>203.49</td>\n",
       "      <td>0</td>\n",
       "      <td>0.62</td>\n",
       "      <td>Monday</td>\n",
       "      <td>November</td>\n",
       "      <td>weekday</td>\n",
       "      <td>0.04</td>\n",
       "      <td>0.00</td>\n",
       "    </tr>\n",
       "    <tr>\n",
       "      <th>2</th>\n",
       "      <td>3</td>\n",
       "      <td>2024-11-02</td>\n",
       "      <td>Control</td>\n",
       "      <td>280</td>\n",
       "      <td>15</td>\n",
       "      <td>0</td>\n",
       "      <td>288.82</td>\n",
       "      <td>0</td>\n",
       "      <td>0.47</td>\n",
       "      <td>Saturday</td>\n",
       "      <td>November</td>\n",
       "      <td>weekday</td>\n",
       "      <td>0.05</td>\n",
       "      <td>0.00</td>\n",
       "    </tr>\n",
       "    <tr>\n",
       "      <th>3</th>\n",
       "      <td>4</td>\n",
       "      <td>2024-11-10</td>\n",
       "      <td>Control</td>\n",
       "      <td>305</td>\n",
       "      <td>14</td>\n",
       "      <td>692</td>\n",
       "      <td>272.95</td>\n",
       "      <td>1</td>\n",
       "      <td>0.44</td>\n",
       "      <td>Sunday</td>\n",
       "      <td>November</td>\n",
       "      <td>weekend</td>\n",
       "      <td>0.05</td>\n",
       "      <td>7.14</td>\n",
       "    </tr>\n",
       "    <tr>\n",
       "      <th>4</th>\n",
       "      <td>5</td>\n",
       "      <td>2024-10-18</td>\n",
       "      <td>Control</td>\n",
       "      <td>319</td>\n",
       "      <td>26</td>\n",
       "      <td>0</td>\n",
       "      <td>148.98</td>\n",
       "      <td>0</td>\n",
       "      <td>0.55</td>\n",
       "      <td>Friday</td>\n",
       "      <td>October</td>\n",
       "      <td>weekday</td>\n",
       "      <td>0.08</td>\n",
       "      <td>0.00</td>\n",
       "    </tr>\n",
       "  </tbody>\n",
       "</table>\n",
       "</div>"
      ],
      "text/plain": [
       "   userid       Date group Name  impression  click  revenue  \\\n",
       "0       1 2024-10-02    Control         294     20        0   \n",
       "1       2 2024-11-25    Control         312     13        0   \n",
       "2       3 2024-11-02    Control         280     15        0   \n",
       "3       4 2024-11-10    Control         305     14      692   \n",
       "4       5 2024-10-18    Control         319     26        0   \n",
       "\n",
       "   session_duration(sec)  conversion  exit rate   Day_Name Month_Name  \\\n",
       "0                 175.11           0       0.40  Wednesday    October   \n",
       "1                 203.49           0       0.62     Monday   November   \n",
       "2                 288.82           0       0.47   Saturday   November   \n",
       "3                 272.95           1       0.44     Sunday   November   \n",
       "4                 148.98           0       0.55     Friday    October   \n",
       "\n",
       "  week_flag   CTR    CR  \n",
       "0   weekday  0.07  0.00  \n",
       "1   weekday  0.04  0.00  \n",
       "2   weekday  0.05  0.00  \n",
       "3   weekend  0.05  7.14  \n",
       "4   weekday  0.08  0.00  "
      ]
     },
     "execution_count": 48,
     "metadata": {},
     "output_type": "execute_result"
    }
   ],
   "source": [
    "df.head()"
   ]
  },
  {
   "cell_type": "code",
   "execution_count": 49,
   "id": "b8ce7c56",
   "metadata": {},
   "outputs": [
    {
     "data": {
      "text/plain": [
       "Control         6690\n",
       "Experimental    6690\n",
       "Name: group Name, dtype: int64"
      ]
     },
     "execution_count": 49,
     "metadata": {},
     "output_type": "execute_result"
    }
   ],
   "source": [
    "df['group Name'].value_counts()"
   ]
  },
  {
   "cell_type": "code",
   "execution_count": 58,
   "id": "1b06f477",
   "metadata": {},
   "outputs": [],
   "source": [
    "control_group=df[df['group Name']=='Control']\n",
    "Experimental_group=df[df['group Name']=='Experimental']"
   ]
  },
  {
   "cell_type": "markdown",
   "id": "9b868ec3",
   "metadata": {},
   "source": [
    "### Conversion Rate Comparison  Between Two Groups"
   ]
  },
  {
   "cell_type": "code",
   "execution_count": 110,
   "id": "990e2f43",
   "metadata": {},
   "outputs": [
    {
     "name": "stdout",
     "output_type": "stream",
     "text": [
      "Conversion Rate for Control group 48.67\n",
      "Conversion Rate for Control group 49.73\n"
     ]
    },
    {
     "data": {
      "image/png": "[encoded data removed]",
      "text/plain": [
       "<Figure size 720x360 with 1 Axes>"
      ]
     },
     "metadata": {
      "needs_background": "light"
     },
     "output_type": "display_data"
    }
   ],
   "source": [
    "# conversion Rate for control group\n",
    "count_user=control_group['userid'].count()\n",
    "conversions=control_group[control_group['conversion']==1]\n",
    "total_conversions=conversions['conversion'].sum()\n",
    "conversion_rate_control_group=round((total_conversions/count_user)*100,2)\n",
    "\n",
    "#conversion rate for experimentak group\n",
    "count_user=Experimental_group['userid'].count()\n",
    "total_conversion=Experimental_group['conversion'].sum()\n",
    "conversion_rate_Experimental_group=round((total_conversion/count_user)*100,2)\n",
    "\n",
    "#Data For The conversion Rate\n",
    "group=['Control Group','Experimental Group']\n",
    "CR_Value=[conversion_rate_control_group,conversion_rate_Experimental_group]\n",
    "\n",
    "print(f\"Conversion Rate for Control group {conversion_rate_control_group}\")\n",
    "print(f\"Conversion Rate for Control group {conversion_rate_Experimental_group}\")\n",
    "\n",
    "#Create a Bar Graph\n",
    "plt.figure(figsize=(10,5))\n",
    "bars=plt.bar(group,CR_Value,color=['blue','orange'])\n",
    "\n",
    "# Add labels on top of each bar\n",
    "for bar in bars:\n",
    "    plt.text(bar.get_x() + bar.get_width() / 2, bar.get_height(), \n",
    "             f'{bar.get_height():.2f}', \n",
    "             ha='center', va='bottom', fontsize=12)\n",
    "    \n",
    "# Add Label\n",
    "plt.title('Conversion Rate Analysis Between two Group')\n",
    "plt.xlabel('Group')\n",
    "plt.ylabel('Conversion Rate Conversion');\n"
   ]
  },
  {
   "cell_type": "markdown",
   "id": "715c202f",
   "metadata": {},
   "source": [
    "#### Insight:\n",
    "    \n",
    "* The conversion rate for the control group is 48.67%, indicating a solid baseline for comparison.\n",
    "\n",
    "* The conversion rate for the Experimental group is 49.73%, which shows a slight improvement of approximately 1.06% over the control group."
   ]
  },
  {
   "cell_type": "markdown",
   "id": "504ef529",
   "metadata": {},
   "source": [
    "### Conversion Count for Two Group"
   ]
  },
  {
   "cell_type": "code",
   "execution_count": 78,
   "id": "290038c3",
   "metadata": {},
   "outputs": [
    {
     "data": {
      "image/png": "[encoded data removed]",
      "text/plain": [
       "<Figure size 720x360 with 1 Axes>"
      ]
     },
     "metadata": {
      "needs_background": "light"
     },
     "output_type": "display_data"
    }
   ],
   "source": [
    "data_con=df[df['conversion']==1]\n",
    "plt.figure(figsize=(10,5))\n",
    "ax=sns.countplot(data=data_con,x=data_con['group Name'])\n",
    "for container in ax.containers:\n",
    "    ax.bar_label(container)\n",
    "plt.title('Conversion  Count for Two Group');"
   ]
  },
  {
   "cell_type": "markdown",
   "id": "d240434e",
   "metadata": {},
   "source": [
    "### Insight:\n",
    "\n",
    "** The control group has a conversion count of 3,256, reflecting the baseline performance.\n",
    "\n",
    "** The experimental group has a conversion count of 3,327, showing an increase of 71 conversions, which indicates a positive effect of the experimental treatment."
   ]
  },
  {
   "cell_type": "markdown",
   "id": "928ab952",
   "metadata": {},
   "source": [
    "### CTR Analysis for two group"
   ]
  },
  {
   "cell_type": "code",
   "execution_count": 67,
   "id": "e44c641e",
   "metadata": {},
   "outputs": [
    {
     "data": {
      "image/png": "[encoded data removed]",
      "text/plain": [
       "<Figure size 720x360 with 1 Axes>"
      ]
     },
     "metadata": {
      "needs_background": "light"
     },
     "output_type": "display_data"
    }
   ],
   "source": [
    "plt.figure(figsize=(10,5))\n",
    "ax=sns.barplot(data=df,x=df['group Name'],y=df['CTR'])\n",
    "for container in ax.containers:\n",
    "    ax.bar_label(container)\n",
    "plt.title('CTR Analysis for Two Group');"
   ]
  },
  {
   "cell_type": "markdown",
   "id": "4f8eb9d8",
   "metadata": {},
   "source": [
    "### Insight:\n",
    "\n",
    "** The click-through rate (CTR) for the control group is 5.03%, serving as the baseline for comparison.\n",
    "\n",
    "** The CTR for the experimental group is 4.99%, showing a slight decrease of 0.04%, suggesting minimal impact from the experimental treatment."
   ]
  },
  {
   "cell_type": "markdown",
   "id": "cee66790",
   "metadata": {},
   "source": [
    "### Average Order Value Analysis"
   ]
  },
  {
   "cell_type": "code",
   "execution_count": 90,
   "id": "cf96e8f2",
   "metadata": {},
   "outputs": [
    {
     "name": "stdout",
     "output_type": "stream",
     "text": [
      "Average Order Value for Control Group 336.79402092675633\n",
      "Average Order Value for Experimental  Group 402.8206278026906\n"
     ]
    },
    {
     "data": {
      "image/png": "[encoded data removed]",
      "text/plain": [
       "<Figure size 864x432 with 1 Axes>"
      ]
     },
     "metadata": {
      "needs_background": "light"
     },
     "output_type": "display_data"
    }
   ],
   "source": [
    "# Calculate AOV for Experimental Group\n",
    "count_user_experimental = Experimental_group['userid'].count()\n",
    "total_revenue_experimental = Experimental_group['revenue'].sum()\n",
    "AOV_experimental_group = total_revenue_experimental / count_user_experimental\n",
    "\n",
    "# Calculate AOV for Control Group\n",
    "count_user_control = control_group['userid'].count()\n",
    "total_revenue_control = conversions['revenue'].sum()\n",
    "AOV_control_group = total_revenue_control / count_user_control\n",
    "\n",
    "# Data for the bar chart\n",
    "groups = ['Experimental Group', 'Control Group']\n",
    "AOV_values = [AOV_experimental_group, AOV_control_group]\n",
    "\n",
    "print(f\"Average Order Value for Control Group {AOV_control_group}\")\n",
    "print(f\"Average Order Value for Experimental  Group {AOV_experimental_group}\")\n",
    "\n",
    "# Create a bar graph\n",
    "plt.figure(figsize=(12,6))\n",
    "bars=plt.bar(groups, AOV_values, color=['blue', 'orange'])\n",
    "for bar in bars:\n",
    "    plt.text(bar.get_x() + bar.get_width() / 2, bar.get_height(), \n",
    "             f'{bar.get_height():.2f}', \n",
    "             ha='center', va='bottom', fontsize=12)\n",
    "\n",
    "# Add titles and labels\n",
    "plt.title('Average Order Value (AOV) Comparison')\n",
    "plt.ylabel('Average Order Value')\n",
    "plt.xlabel('Group')\n",
    "\n",
    "# Show the bar graph\n",
    "plt.show()\n"
   ]
  },
  {
   "cell_type": "markdown",
   "id": "79893aec",
   "metadata": {},
   "source": [
    "#Insight:\n",
    "\n",
    "** The Average Order Value (AOV) for the Control Group is 336.79, providing a baseline for comparison.\n",
    "\n",
    "** The Experimental Group shows an increased AOV of 402.82, indicating a positive impact of the experimental treatment, with a significant improvement over the control group."
   ]
  },
  {
   "cell_type": "markdown",
   "id": "f9916f9d",
   "metadata": {},
   "source": [
    "### Average Session Duration Analysis"
   ]
  },
  {
   "cell_type": "code",
   "execution_count": 115,
   "id": "2edef011",
   "metadata": {},
   "outputs": [],
   "source": [
    "session_group=df.groupby('group Name')['session_duration(sec)'].mean().reset_index()"
   ]
  },
  {
   "cell_type": "code",
   "execution_count": 116,
   "id": "20a35eb3",
   "metadata": {},
   "outputs": [
    {
     "data": {
      "image/png": "[encoded data removed]",
      "text/plain": [
       "<Figure size 864x432 with 1 Axes>"
      ]
     },
     "metadata": {
      "needs_background": "light"
     },
     "output_type": "display_data"
    }
   ],
   "source": [
    "plt.figure(figsize=(12,6))\n",
    "ax=sns.barplot(data=session_group,x=session_group['group Name'],y=session_group['session_duration(sec)'])\n",
    "for container in ax.containers:\n",
    "    ax.bar_label(container)\n"
   ]
  },
  {
   "cell_type": "markdown",
   "id": "ea6ed66b",
   "metadata": {},
   "source": [
    "# Insight:\n",
    "\n",
    "** The average session duration for the Control Group is 166.31 seconds, serving as the baseline for comparison.\n",
    "\n",
    "** The Experimental Group shows a slightly shorter average session duration of 164.59 seconds, suggesting a small decrease in user engagement compared to the control group."
   ]
  },
  {
   "cell_type": "markdown",
   "id": "8f5f26a7",
   "metadata": {},
   "source": [
    "### Average Exit Rate Analysis"
   ]
  },
  {
   "cell_type": "code",
   "execution_count": 121,
   "id": "8ca3edbc",
   "metadata": {},
   "outputs": [],
   "source": [
    "exit_group=df.groupby('group Name')['exit rate'].mean().reset_index()"
   ]
  },
  {
   "cell_type": "code",
   "execution_count": 123,
   "id": "ff0a3ba6",
   "metadata": {},
   "outputs": [
    {
     "data": {
      "image/png": "[encoded data removed]",
      "text/plain": [
       "<Figure size 864x432 with 1 Axes>"
      ]
     },
     "metadata": {
      "needs_background": "light"
     },
     "output_type": "display_data"
    }
   ],
   "source": [
    "plt.figure(figsize=(12,6))\n",
    "ax=sns.barplot(data=exit_group,x=exit_group['group Name'],y=exit_group['exit rate'])\n",
    "for container in ax.containers:\n",
    "    ax.bar_label(container)"
   ]
  },
  {
   "cell_type": "markdown",
   "id": "5ff89009",
   "metadata": {},
   "source": [
    "### Insight:\n",
    "\n",
    "* The exit rate for the Control Group is 0.447, providing the baseline for comparison.\n",
    "\n",
    "\n",
    "* The Experimental Group has a slightly higher exit rate of 0.450, indicating a marginal increase in the number of users leaving the site compared to the control group."
   ]
  },
  {
   "cell_type": "markdown",
   "id": "9e14ac2f",
   "metadata": {},
   "source": [
    "### Revenue Analysis between two Group\n"
   ]
  },
  {
   "cell_type": "code",
   "execution_count": 129,
   "id": "6a02e38d",
   "metadata": {},
   "outputs": [],
   "source": [
    "revenue_group=df.groupby('group Name')['revenue'].sum().reset_index()"
   ]
  },
  {
   "cell_type": "code",
   "execution_count": 133,
   "id": "8e1054f4",
   "metadata": {},
   "outputs": [
    {
     "name": "stdout",
     "output_type": "stream",
     "text": [
      "Revenue between two group      group Name  revenue\n",
      "0       Control  2253152\n",
      "1  Experimental  2694870\n"
     ]
    },
    {
     "data": {
      "image/png": "[encoded data removed]",
      "text/plain": [
       "<Figure size 864x432 with 1 Axes>"
      ]
     },
     "metadata": {
      "needs_background": "light"
     },
     "output_type": "display_data"
    }
   ],
   "source": [
    "print(f\"Revenue between two group {revenue_group}\")\n",
    "plt.figure(figsize=(12,6))\n",
    "ax=sns.barplot(data=revenue_group,x=revenue_group['group Name'],y=revenue_group['revenue'])\n",
    "for container in ax.containers:\n",
    "    ax.bar_label(container)"
   ]
  },
  {
   "cell_type": "markdown",
   "id": "ed4bb1db",
   "metadata": {},
   "source": [
    "### Insight:\n",
    "\n",
    "** The Experimental group generated a revenue of 2,694,870, which is higher than the Control group's revenue of 2,253,152.\n",
    "\n",
    "\n",
    "** Despite the higher revenue in the Experimental group, further analysis is needed (e.g., A/B testing) to determine if the difference is statistically significant and not due to random variation."
   ]
  },
  {
   "cell_type": "markdown",
   "id": "aabd2122",
   "metadata": {},
   "source": [
    "### Hypothesis Testing"
   ]
  },
  {
   "cell_type": "markdown",
   "id": "5ca58061",
   "metadata": {},
   "source": [
    "Null Hypothesis (H₀): There is no significant difference in conversion rates between the Control group and experimental  groups.\n",
    "\n",
    "Formula for Null Hypotheis: H0 : Conversion Rate (Control) = Conversion Rate (Variant)\n",
    "\n",
    "Alternative Hypothesis (H₁): There is a significant difference in conversion rates between the Control group and experimental groups .\n",
    "\n",
    "Formula for Alternative Hypotheis: H0 : Conversion Rate (Control) != Conversion Rate (Variant)"
   ]
  },
  {
   "cell_type": "code",
   "execution_count": 134,
   "id": "bb337e3f",
   "metadata": {},
   "outputs": [
    {
     "name": "stdout",
     "output_type": "stream",
     "text": [
      "T-statistic: -1.2277440766914567\n",
      "P-value: 0.2195646563424548\n",
      "Accept the null hypothesis: There is no significant difference between the groups.\n"
     ]
    }
   ],
   "source": [
    "import scipy.stats as stats\n",
    "\n",
    "\n",
    "# Perform two-sample t-test\n",
    "t_stat, p_value = stats.ttest_ind(a=control_group['conversion'], b=Experimental_group['conversion'],equal_var=False)\n",
    "\n",
    "# Output the t-statistic and p-value\n",
    "print(f\"T-statistic: {t_stat}\")\n",
    "print(f\"P-value: {p_value}\")\n",
    "\n",
    "# Interpret the p-value\n",
    "if p_value < 0.05:\n",
    "    print(\"Reject the null hypothesis:There is significant difference between the groups .\")\n",
    "else:\n",
    "    print(\"Accept the null hypothesis: There is no significant difference between the groups.\")\n"
   ]
  },
  {
   "cell_type": "markdown",
   "id": "79919b4b",
   "metadata": {},
   "source": [
    "### Insights:\n",
    "   \n",
    "Decision:\n",
    "\n",
    "Since p-value (0.2196) is greater than α (0.05), we fail to reject the null hypothesis.\n",
    "\n",
    "### Conclusion:\n",
    "\n",
    "There is no statistically significant difference between the control and experimental groups in this study.\n",
    "\n",
    "The observed difference in means (48.67 vs. 49.73) is likely due to random variation rather than a meaningful effect.\n",
    "Interpretation:\n",
    "\n",
    "Based on the p-value, the evidence is insufficient to claim that the experimental treatment or condition has a different impact than the control group.\n",
    "\n",
    "The null hypothesis that there is no difference between the groups cannot be rejected at the 5% significance level.\n",
    "\n",
    "### Implications:\n",
    "\n",
    "The results suggest that the control and experimental groups behave similarly, and no strong evidence supports that the experimental treatment has a significant effect.\n",
    "\n",
    "Further research or a larger sample size may be needed to detect a meaningful difference, if one exists.\n",
    "\n",
    "This insight provides a clear and concise summary based on the results of the t-test.\n",
    "\n",
    "\n",
    "\n"
   ]
  },
  {
   "cell_type": "code",
   "execution_count": null,
   "id": "a0fd6296",
   "metadata": {},
   "outputs": [],
   "source": []
  }
 ],
 "metadata": {
  "kernelspec": {
   "display_name": "Python 3 (ipykernel)",
   "language": "python",
   "name": "python3"
  },
  "language_info": {
   "codemirror_mode": {
    "name": "ipython",
    "version": 3
   },
   "file_extension": ".py",
   "mimetype": "text/x-python",
   "name": "python",
   "nbconvert_exporter": "python",
   "pygments_lexer": "ipython3",
   "version": "3.9.7"
  }
 },
 "nbformat": 4,
 "nbformat_minor": 5
}
